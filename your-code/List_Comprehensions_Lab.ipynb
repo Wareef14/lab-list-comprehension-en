{
  "cells": [
    {
      "cell_type": "markdown",
      "metadata": {
        "id": "LIpvXxVxN2Jx"
      },
      "source": [
        "# List Comprehensions\n",
        "\n",
        "Complete the following set of exercises to solidify your knowledge of list comprehensions."
      ]
    },
    {
      "cell_type": "code",
      "execution_count": null,
      "metadata": {
        "id": "JtekaD0KN2J0"
      },
      "outputs": [],
      "source": [
        "import os"
      ]
    },
    {
      "cell_type": "markdown",
      "metadata": {
        "id": "Amnp1UJXN2J2"
      },
      "source": [
        "#### 1. Use a list comprehension to create and print a list of consecutive integers starting with 1 and ending with 50."
      ]
    },
    {
      "cell_type": "code",
      "execution_count": null,
      "metadata": {
        "colab": {
          "base_uri": "https://localhost:8080/"
        },
        "id": "F2oDMEKHN2J3",
        "outputId": "273c1589-8b85-434e-dd4f-0dcf83a4b0df"
      },
      "outputs": [
        {
          "output_type": "stream",
          "name": "stdout",
          "text": [
            "[1, 2, 3, 4, 5, 6, 7, 8, 9, 10, 11, 12, 13, 14, 15, 16, 17, 18, 19, 20, 21, 22, 23, 24, 25, 26, 27, 28, 29, 30, 31, 32, 33, 34, 35, 36, 37, 38, 39, 40, 41, 42, 43, 44, 45, 46, 47, 48, 49, 50]\n"
          ]
        }
      ],
      "source": [
        "# Let's create a list of consecutive integers from 1 to 50 using a list comprehension.\n",
        "# Think of it as a compact way to generate the list in one line.\n",
        "\n",
        "# We'll name the list 'consecutive_numbers' to make it clear what it represents.\n",
        "# The list comprehension will iterate over a range of numbers starting from 1 up to 51 (since range is exclusive).\n",
        "# For each number in that range, it will add it to the list.\n",
        "\n",
        "consecutive_numbers = [number for number in range(1, 51)]\n",
        "\n",
        "# Now, let's print the list to see the result.\n",
        "print(consecutive_numbers)"
      ]
    },
    {
      "cell_type": "markdown",
      "metadata": {
        "id": "kvBQqKoUN2J3"
      },
      "source": [
        "#### 2. Use a list comprehension to create and print a list of even numbers starting with 2 and ending with 200."
      ]
    },
    {
      "cell_type": "code",
      "execution_count": null,
      "metadata": {
        "colab": {
          "base_uri": "https://localhost:8080/"
        },
        "id": "kMTlWy91N2J4",
        "outputId": "709e3a95-f204-4246-ae05-1066846d369e"
      },
      "outputs": [
        {
          "output_type": "stream",
          "name": "stdout",
          "text": [
            "[2, 4, 6, 8, 10, 12, 14, 16, 18, 20, 22, 24, 26, 28, 30, 32, 34, 36, 38, 40, 42, 44, 46, 48, 50, 52, 54, 56, 58, 60, 62, 64, 66, 68, 70, 72, 74, 76, 78, 80, 82, 84, 86, 88, 90, 92, 94, 96, 98, 100, 102, 104, 106, 108, 110, 112, 114, 116, 118, 120, 122, 124, 126, 128, 130, 132, 134, 136, 138, 140, 142, 144, 146, 148, 150, 152, 154, 156, 158, 160, 162, 164, 166, 168, 170, 172, 174, 176, 178, 180, 182, 184, 186, 188, 190, 192, 194, 196, 198, 200]\n"
          ]
        }
      ],
      "source": [
        "# Let's create a list of even numbers from 2 to 200 using a list comprehension.\n",
        "# This is a neat way to generate the list in just one line of code.\n",
        "\n",
        "# We'll name the list 'even_numbers_list' to make it clear that it contains even numbers.\n",
        "# The list comprehension will iterate over a range of numbers starting from 2 up to 201 (since range is exclusive).\n",
        "# But we only want even numbers, so we'll use a condition to filter them.\n",
        "\n",
        "even_numbers_list = [number for number in range(2, 201) if number % 2 == 0]\n",
        "\n",
        "# Let's break this down:\n",
        "# - `number for number in range(2, 201)`: This part says, \"Go through every number from 2 to 200.\"\n",
        "# - `if number % 2 == 0`: This condition ensures we only include numbers that are even (divisible by 2 with no remainder).\n",
        "\n",
        "# Now, let's print the list to see the result.\n",
        "print(even_numbers_list)"
      ]
    },
    {
      "cell_type": "markdown",
      "metadata": {
        "id": "oMX2ViJIN2J5"
      },
      "source": [
        "#### 3. Use a list comprehension to create and print a list containing all elements of the 10 x 4 array below."
      ]
    },
    {
      "cell_type": "code",
      "execution_count": null,
      "metadata": {
        "id": "Jqaxp7d1N2J5"
      },
      "outputs": [],
      "source": [
        "a = [[0.84062117, 0.48006452, 0.7876326 , 0.77109654],\n",
        "       [0.44409793, 0.09014516, 0.81835917, 0.87645456],\n",
        "       [0.7066597 , 0.09610873, 0.41247947, 0.57433389],\n",
        "       [0.29960807, 0.42315023, 0.34452557, 0.4751035 ],\n",
        "       [0.17003563, 0.46843998, 0.92796258, 0.69814654],\n",
        "       [0.41290051, 0.19561071, 0.16284783, 0.97016248],\n",
        "       [0.71725408, 0.87702738, 0.31244595, 0.76615487],\n",
        "       [0.20754036, 0.57871812, 0.07214068, 0.40356048],\n",
        "       [0.12149553, 0.53222417, 0.9976855 , 0.12536346],\n",
        "       [0.80930099, 0.50962849, 0.94555126, 0.33364763]];"
      ]
    },
    {
      "cell_type": "code",
      "execution_count": null,
      "metadata": {
        "colab": {
          "base_uri": "https://localhost:8080/"
        },
        "id": "jTkKsUmzN2J5",
        "outputId": "61a0e531-6dfa-4cca-8113-716927a92145"
      },
      "outputs": [
        {
          "output_type": "stream",
          "name": "stdout",
          "text": [
            "[0.84062117, 0.48006452, 0.7876326, 0.77109654, 0.44409793, 0.09014516, 0.81835917, 0.87645456, 0.7066597, 0.09610873, 0.41247947, 0.57433389, 0.29960807, 0.42315023, 0.34452557, 0.4751035, 0.17003563, 0.46843998, 0.92796258, 0.69814654, 0.41290051, 0.19561071, 0.16284783, 0.97016248, 0.71725408, 0.87702738, 0.31244595, 0.76615487, 0.20754036, 0.57871812, 0.07214068, 0.40356048, 0.12149553, 0.53222417, 0.9976855, 0.12536346, 0.80930099, 0.50962849, 0.94555126, 0.33364763]\n"
          ]
        }
      ],
      "source": [
        "# We'll name the flattened list 'flattened_array_elements' to make it clear what it contains.\n",
        "# The list comprehension will iterate over each row in the array 'a', and then over each element in that row.\n",
        "# It will collect all the elements into a single list.\n",
        "\n",
        "flattened_array_elements = [element for row in a for element in row]\n",
        "\n",
        "# Let's break this down:\n",
        "# - `for row in a`: This part says, \"Go through each row in the array 'a'.\"\n",
        "# - `for element in row`: This part says, \"For each row, go through every element in that row.\"\n",
        "# - `element`: This is the value we add to the new list.\n",
        "\n",
        "# Now, let's print the flattened list to see the result.\n",
        "print(flattened_array_elements)"
      ]
    },
    {
      "cell_type": "markdown",
      "metadata": {
        "id": "BG2NF0UvN2J6"
      },
      "source": [
        "#### 4. Add a condition to the list comprehension above so that only values greater than or equal to 0.5 are printed."
      ]
    },
    {
      "cell_type": "code",
      "execution_count": null,
      "metadata": {
        "colab": {
          "base_uri": "https://localhost:8080/"
        },
        "id": "5I4Ru164N2J6",
        "outputId": "87d0a853-4f87-40ad-a09a-2755d942eb0f"
      },
      "outputs": [
        {
          "output_type": "stream",
          "name": "stdout",
          "text": [
            "[0.84062117, 0.7876326, 0.77109654, 0.81835917, 0.87645456, 0.7066597, 0.57433389, 0.92796258, 0.69814654, 0.97016248, 0.71725408, 0.87702738, 0.76615487, 0.57871812, 0.53222417, 0.9976855, 0.80930099, 0.50962849, 0.94555126]\n"
          ]
        }
      ],
      "source": [
        "# We'll name the filtered list 'filtered_elements_above_half' to make it clear what it contains.\n",
        "# The list comprehension will iterate over each row in the array 'a', then over each element in that row.\n",
        "# It will include an element in the new list only if it is greater than or equal to 0.5.\n",
        "\n",
        "filtered_elements_above_half = [element for row in a for element in row if element >= 0.5]\n",
        "\n",
        "# Let's break this down:\n",
        "# - `for row in a`: This part says, \"Go through each row in the array 'a'.\"\n",
        "# - `for element in row`: This part says, \"For each row, go through every element in that row.\"\n",
        "# - `if element >= 0.5`: This condition ensures that only elements greater than or equal to 0.5 are included in the new list.\n",
        "# - `element`: This is the value we add to the new list if it meets the condition.\n",
        "\n",
        "# Now, let's print the filtered list to see the result :).\n",
        "print(filtered_elements_above_half)"
      ]
    },
    {
      "cell_type": "markdown",
      "metadata": {
        "id": "AUuR55TZN2J7"
      },
      "source": [
        "#### 5. Use a list comprehension to create and print a list containing all elements of the 5 x 2 x 3 array below."
      ]
    },
    {
      "cell_type": "code",
      "execution_count": null,
      "metadata": {
        "id": "Rm2ra5A8N2J7"
      },
      "outputs": [],
      "source": [
        "b = [[[0.55867166, 0.06210792, 0.08147297],\n",
        "        [0.82579068, 0.91512478, 0.06833034]],\n",
        "\n",
        "       [[0.05440634, 0.65857693, 0.30296619],\n",
        "        [0.06769833, 0.96031863, 0.51293743]],\n",
        "\n",
        "       [[0.09143215, 0.71893382, 0.45850679],\n",
        "        [0.58256464, 0.59005654, 0.56266457]],\n",
        "\n",
        "       [[0.71600294, 0.87392666, 0.11434044],\n",
        "        [0.8694668 , 0.65669313, 0.10708681]],\n",
        "\n",
        "       [[0.07529684, 0.46470767, 0.47984544],\n",
        "        [0.65368638, 0.14901286, 0.23760688]]];"
      ]
    },
    {
      "cell_type": "code",
      "execution_count": null,
      "metadata": {
        "colab": {
          "base_uri": "https://localhost:8080/"
        },
        "id": "OVoB6pWCN2J7",
        "outputId": "e29f1f1b-6e3a-4347-9ba6-8da56e2e1988"
      },
      "outputs": [
        {
          "output_type": "stream",
          "name": "stdout",
          "text": [
            "[0.55867166, 0.06210792, 0.08147297, 0.82579068, 0.91512478, 0.06833034, 0.05440634, 0.65857693, 0.30296619, 0.06769833, 0.96031863, 0.51293743, 0.09143215, 0.71893382, 0.45850679, 0.58256464, 0.59005654, 0.56266457, 0.71600294, 0.87392666, 0.11434044, 0.8694668, 0.65669313, 0.10708681, 0.07529684, 0.46470767, 0.47984544, 0.65368638, 0.14901286, 0.23760688]\n"
          ]
        }
      ],
      "source": [
        "# We'll name the flattened list 'flattened_3d_array_elements' to make it clear what it contains.\n",
        "# The list comprehension will iterate over each 2D array in 'b', then over each row in the 2D array,\n",
        "# and finally over each element in that row. It will collect all the elements into a single list.\n",
        "\n",
        "flattened_3d_array_elements = [element for array_2d in b for row in array_2d for element in row]\n",
        "\n",
        "# Let's break this down:\n",
        "# - `for array_2d in b`: This part says, \"Go through each 2D array in the 3D array 'b'.\"\n",
        "# - `for row in array_2d`: This part says, \"For each 2D array, go through every row in that array.\"\n",
        "# - `for element in row`: This part says, \"For each row, go through every element in that row.\"\n",
        "# - `element`: This is the value we add to the new list.\n",
        "\n",
        "# Now, let's print the flattened list to see the result.\n",
        "print(flattened_3d_array_elements)"
      ]
    },
    {
      "cell_type": "markdown",
      "metadata": {
        "id": "C8MsffFGN2J8"
      },
      "source": [
        "#### 6. Add a condition to the list comprehension above so that the last value in each subarray is printed, but only if it is less than or equal to 0.5."
      ]
    },
    {
      "cell_type": "code",
      "execution_count": null,
      "metadata": {
        "colab": {
          "base_uri": "https://localhost:8080/"
        },
        "id": "AqWWQI84N2J8",
        "outputId": "1f129fd1-0789-4817-9eb5-64cebabb2e16"
      },
      "outputs": [
        {
          "output_type": "stream",
          "name": "stdout",
          "text": [
            "[0.08147297, 0.06833034, 0.30296619, 0.45850679, 0.11434044, 0.10708681, 0.47984544, 0.23760688]\n"
          ]
        }
      ],
      "source": [
        "# We'll name the filtered list 'last_values_less_than_half' to make it clear what it contains.\n",
        "# The list comprehension will iterate over each 2D array in 'b', then over each row in the 2D array.\n",
        "# For each row, it will check the last value (using `row[-1]`) and include it in the new list\n",
        "# only if it is less than or equal to 0.5.\n",
        "\n",
        "last_values_less_than_half = [row[-1] for array_2d in b for row in array_2d if row[-1] <= 0.5]\n",
        "\n",
        "# Let's break this down:\n",
        "# - `for array_2d in b`: This part says, \"Go through each 2D array in the 3D array 'b'.\"\n",
        "# - `for row in array_2d`: This part says, \"For each 2D array, go through every row in that array.\"\n",
        "# - `row[-1]`: This accesses the last value in the current row.\n",
        "# - `if row[-1] <= 0.5`: This condition ensures that only the last value is included if it is less than or equal to 0.5.\n",
        "# - `row[-1]`: This is the value we add to the new list if it meets the condition.\n",
        "\n",
        "# Now, let's print the filtered list to see the result.\n",
        "print(last_values_less_than_half)"
      ]
    },
    {
      "cell_type": "markdown",
      "metadata": {
        "id": "XrgQ0dCgN2J8"
      },
      "source": [
        "### Bonus"
      ]
    },
    {
      "cell_type": "markdown",
      "metadata": {
        "id": "8AuartmCN2J8"
      },
      "source": [
        "Try to solve these katas using list comprehensions."
      ]
    },
    {
      "cell_type": "markdown",
      "metadata": {
        "id": "GI4ulT5aN2J9"
      },
      "source": [
        "**Easy**\n",
        "- [Insert values](https://www.codewars.com/kata/invert-values)\n",
        "- [Sum Square(n)](https://www.codewars.com/kata/square-n-sum)\n",
        "- [Digitize](https://www.codewars.com/kata/digitize)\n",
        "- [List filtering](https://www.codewars.com/kata/list-filtering)\n",
        "- [Arithmetic list](https://www.codewars.com/kata/541da001259d9ca85d000688)\n",
        "\n",
        "**Medium**\n",
        "- [Multiples of 3 or 5](https://www.codewars.com/kata/514b92a657cdc65150000006)\n",
        "- [Count of positives / sum of negatives](https://www.codewars.com/kata/count-of-positives-slash-sum-of-negatives)\n",
        "- [Categorize new member](https://www.codewars.com/kata/5502c9e7b3216ec63c0001aa)\n",
        "\n",
        "**Advanced**\n",
        "- [Queue time counter](https://www.codewars.com/kata/queue-time-counter)"
      ]
    }
  ],
  "metadata": {
    "kernelspec": {
      "display_name": "Python 3 (ipykernel)",
      "language": "python",
      "name": "python3"
    },
    "language_info": {
      "codemirror_mode": {
        "name": "ipython",
        "version": 3
      },
      "file_extension": ".py",
      "mimetype": "text/x-python",
      "name": "python",
      "nbconvert_exporter": "python",
      "pygments_lexer": "ipython3",
      "version": "3.9.13"
    },
    "vscode": {
      "interpreter": {
        "hash": "aee8b7b246df8f9039afb4144a1f6fd8d2ca17a180786b69acc140d282b71a49"
      }
    },
    "colab": {
      "provenance": []
    }
  },
  "nbformat": 4,
  "nbformat_minor": 0
}